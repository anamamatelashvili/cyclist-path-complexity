{
 "cells": [
  {
   "cell_type": "markdown",
   "id": "b6d0ec2b-39fc-4652-b0f0-6b220ec3f799",
   "metadata": {},
   "source": [
    "# Import and load"
   ]
  },
  {
   "cell_type": "code",
   "execution_count": 41,
   "id": "a7fa8be9-81ee-427e-8eb2-f5d3d662b002",
   "metadata": {},
   "outputs": [],
   "source": [
    "import pandas as pd\n",
    "import numpy as np\n",
    "import os\n",
    "import json"
   ]
  },
  {
   "cell_type": "code",
   "execution_count": 22,
   "id": "e049b761-0ec1-4078-8104-a328ea4b4ea9",
   "metadata": {},
   "outputs": [
    {
     "data": {
      "text/plain": [
       "'/Users/anamamatelashvili/PycharmProjects/cyclist_path_complexity/20221125_path_data.json'"
      ]
     },
     "execution_count": 22,
     "metadata": {},
     "output_type": "execute_result"
    }
   ],
   "source": [
    "path_to_data = os.getcwd() + \"/20221125_path_data.json\""
   ]
  },
  {
   "cell_type": "code",
   "execution_count": 26,
   "id": "b8750fc2-036a-4566-a0a6-69b315b8163f",
   "metadata": {},
   "outputs": [],
   "source": [
    "with open(path_to_data) as f:\n",
    "    json_data = json.load(f)"
   ]
  },
  {
   "cell_type": "code",
   "execution_count": 33,
   "id": "01176f52-0252-442f-871c-96334f64a568",
   "metadata": {},
   "outputs": [],
   "source": [
    "cycling_paths_df = pd.DataFrame(json_data)\n",
    "cycling_paths_df.set_index(\"id\", inplace=True)"
   ]
  },
  {
   "cell_type": "markdown",
   "id": "097adf12-0c3a-4c78-a330-e6430daf3987",
   "metadata": {},
   "source": [
    "# Summary stats"
   ]
  },
  {
   "cell_type": "code",
   "execution_count": 34,
   "id": "6cad1276-1d0c-4cbd-9adf-e3815c32a0b1",
   "metadata": {},
   "outputs": [
    {
     "data": {
      "text/html": [
       "<div>\n",
       "<style scoped>\n",
       "    .dataframe tbody tr th:only-of-type {\n",
       "        vertical-align: middle;\n",
       "    }\n",
       "\n",
       "    .dataframe tbody tr th {\n",
       "        vertical-align: top;\n",
       "    }\n",
       "\n",
       "    .dataframe thead th {\n",
       "        text-align: right;\n",
       "    }\n",
       "</style>\n",
       "<table border=\"1\" class=\"dataframe\">\n",
       "  <thead>\n",
       "    <tr style=\"text-align: right;\">\n",
       "      <th></th>\n",
       "      <th>segregated_portion_m</th>\n",
       "      <th>elevation_gain_total_m</th>\n",
       "      <th>max_steepness_gradient</th>\n",
       "      <th>length_m</th>\n",
       "      <th>lit_portion</th>\n",
       "      <th>cyclists_average</th>\n",
       "      <th>stoplights_total</th>\n",
       "    </tr>\n",
       "    <tr>\n",
       "      <th>id</th>\n",
       "      <th></th>\n",
       "      <th></th>\n",
       "      <th></th>\n",
       "      <th></th>\n",
       "      <th></th>\n",
       "      <th></th>\n",
       "      <th></th>\n",
       "    </tr>\n",
       "  </thead>\n",
       "  <tbody>\n",
       "    <tr>\n",
       "      <th>0</th>\n",
       "      <td>0.272663</td>\n",
       "      <td>74.558967</td>\n",
       "      <td>5.696159</td>\n",
       "      <td>624.395554</td>\n",
       "      <td>0.171733</td>\n",
       "      <td>[3, 1, 6, 4, 2, 8, 14, 6, 54, 22, 16, 21, 41, ...</td>\n",
       "      <td>6</td>\n",
       "    </tr>\n",
       "    <tr>\n",
       "      <th>1</th>\n",
       "      <td>0.321567</td>\n",
       "      <td>-70.671561</td>\n",
       "      <td>5.573763</td>\n",
       "      <td>773.466732</td>\n",
       "      <td>0.202954</td>\n",
       "      <td>[4, 3, 8, 2, 1, 7, 14, 5, 28, 35, 20, 31, 40, ...</td>\n",
       "      <td>4</td>\n",
       "    </tr>\n",
       "    <tr>\n",
       "      <th>2</th>\n",
       "      <td>0.221246</td>\n",
       "      <td>-35.172413</td>\n",
       "      <td>1.378596</td>\n",
       "      <td>638.563193</td>\n",
       "      <td>0.256841</td>\n",
       "      <td>[1, 0, 6, 4, 5, 9, 9, 11, 33, 18, 29, 30, 23, ...</td>\n",
       "      <td>5</td>\n",
       "    </tr>\n",
       "    <tr>\n",
       "      <th>3</th>\n",
       "      <td>0.266797</td>\n",
       "      <td>-63.608671</td>\n",
       "      <td>3.071868</td>\n",
       "      <td>853.136713</td>\n",
       "      <td>0.360440</td>\n",
       "      <td>[4, 5, 6, 0, 9, 7, 10, 12, 59, 50, 25, 46, 17,...</td>\n",
       "      <td>5</td>\n",
       "    </tr>\n",
       "    <tr>\n",
       "      <th>4</th>\n",
       "      <td>0.257422</td>\n",
       "      <td>-170.341477</td>\n",
       "      <td>2.682898</td>\n",
       "      <td>800.187257</td>\n",
       "      <td>0.136058</td>\n",
       "      <td>[3, 0, 6, 4, 5, 1, 10, 6, 33, 28, 50, 35, 29, ...</td>\n",
       "      <td>1</td>\n",
       "    </tr>\n",
       "  </tbody>\n",
       "</table>\n",
       "</div>"
      ],
      "text/plain": [
       "    segregated_portion_m  elevation_gain_total_m  max_steepness_gradient  \\\n",
       "id                                                                         \n",
       "0               0.272663               74.558967                5.696159   \n",
       "1               0.321567              -70.671561                5.573763   \n",
       "2               0.221246              -35.172413                1.378596   \n",
       "3               0.266797              -63.608671                3.071868   \n",
       "4               0.257422             -170.341477                2.682898   \n",
       "\n",
       "      length_m  lit_portion  \\\n",
       "id                            \n",
       "0   624.395554     0.171733   \n",
       "1   773.466732     0.202954   \n",
       "2   638.563193     0.256841   \n",
       "3   853.136713     0.360440   \n",
       "4   800.187257     0.136058   \n",
       "\n",
       "                                     cyclists_average  stoplights_total  \n",
       "id                                                                       \n",
       "0   [3, 1, 6, 4, 2, 8, 14, 6, 54, 22, 16, 21, 41, ...                 6  \n",
       "1   [4, 3, 8, 2, 1, 7, 14, 5, 28, 35, 20, 31, 40, ...                 4  \n",
       "2   [1, 0, 6, 4, 5, 9, 9, 11, 33, 18, 29, 30, 23, ...                 5  \n",
       "3   [4, 5, 6, 0, 9, 7, 10, 12, 59, 50, 25, 46, 17,...                 5  \n",
       "4   [3, 0, 6, 4, 5, 1, 10, 6, 33, 28, 50, 35, 29, ...                 1  "
      ]
     },
     "execution_count": 34,
     "metadata": {},
     "output_type": "execute_result"
    }
   ],
   "source": [
    "cycling_paths_df.head()"
   ]
  },
  {
   "cell_type": "code",
   "execution_count": 36,
   "id": "721895ae-859b-448f-abbe-92e7ca794d21",
   "metadata": {},
   "outputs": [
    {
     "data": {
      "text/plain": [
       "segregated_portion_m      False\n",
       "elevation_gain_total_m    False\n",
       "max_steepness_gradient    False\n",
       "length_m                  False\n",
       "lit_portion               False\n",
       "cyclists_average          False\n",
       "stoplights_total          False\n",
       "dtype: bool"
      ]
     },
     "execution_count": 36,
     "metadata": {},
     "output_type": "execute_result"
    }
   ],
   "source": [
    "cycling_paths_df.isna().any()"
   ]
  },
  {
   "cell_type": "code",
   "execution_count": 35,
   "id": "80cdf8a2-b250-441c-b47c-dc5e526f970d",
   "metadata": {},
   "outputs": [
    {
     "data": {
      "text/html": [
       "<div>\n",
       "<style scoped>\n",
       "    .dataframe tbody tr th:only-of-type {\n",
       "        vertical-align: middle;\n",
       "    }\n",
       "\n",
       "    .dataframe tbody tr th {\n",
       "        vertical-align: top;\n",
       "    }\n",
       "\n",
       "    .dataframe thead th {\n",
       "        text-align: right;\n",
       "    }\n",
       "</style>\n",
       "<table border=\"1\" class=\"dataframe\">\n",
       "  <thead>\n",
       "    <tr style=\"text-align: right;\">\n",
       "      <th></th>\n",
       "      <th>segregated_portion_m</th>\n",
       "      <th>elevation_gain_total_m</th>\n",
       "      <th>max_steepness_gradient</th>\n",
       "      <th>length_m</th>\n",
       "      <th>lit_portion</th>\n",
       "      <th>stoplights_total</th>\n",
       "    </tr>\n",
       "  </thead>\n",
       "  <tbody>\n",
       "    <tr>\n",
       "      <th>count</th>\n",
       "      <td>100.000000</td>\n",
       "      <td>100.000000</td>\n",
       "      <td>100.000000</td>\n",
       "      <td>100.000000</td>\n",
       "      <td>100.000000</td>\n",
       "      <td>100.000000</td>\n",
       "    </tr>\n",
       "    <tr>\n",
       "      <th>mean</th>\n",
       "      <td>0.195898</td>\n",
       "      <td>-4.689172</td>\n",
       "      <td>3.349055</td>\n",
       "      <td>745.083229</td>\n",
       "      <td>0.165199</td>\n",
       "      <td>4.040000</td>\n",
       "    </tr>\n",
       "    <tr>\n",
       "      <th>std</th>\n",
       "      <td>0.125393</td>\n",
       "      <td>81.171714</td>\n",
       "      <td>1.822165</td>\n",
       "      <td>95.732283</td>\n",
       "      <td>0.102036</td>\n",
       "      <td>3.014845</td>\n",
       "    </tr>\n",
       "    <tr>\n",
       "      <th>min</th>\n",
       "      <td>0.025245</td>\n",
       "      <td>-175.094522</td>\n",
       "      <td>0.125318</td>\n",
       "      <td>391.512465</td>\n",
       "      <td>0.002481</td>\n",
       "      <td>0.000000</td>\n",
       "    </tr>\n",
       "    <tr>\n",
       "      <th>25%</th>\n",
       "      <td>0.096995</td>\n",
       "      <td>-64.713789</td>\n",
       "      <td>1.764582</td>\n",
       "      <td>686.904234</td>\n",
       "      <td>0.091610</td>\n",
       "      <td>1.000000</td>\n",
       "    </tr>\n",
       "    <tr>\n",
       "      <th>50%</th>\n",
       "      <td>0.173000</td>\n",
       "      <td>-5.424127</td>\n",
       "      <td>3.614644</td>\n",
       "      <td>756.449222</td>\n",
       "      <td>0.137292</td>\n",
       "      <td>3.000000</td>\n",
       "    </tr>\n",
       "    <tr>\n",
       "      <th>75%</th>\n",
       "      <td>0.261119</td>\n",
       "      <td>58.292482</td>\n",
       "      <td>5.086246</td>\n",
       "      <td>808.259692</td>\n",
       "      <td>0.206105</td>\n",
       "      <td>7.000000</td>\n",
       "    </tr>\n",
       "    <tr>\n",
       "      <th>max</th>\n",
       "      <td>0.574913</td>\n",
       "      <td>155.560535</td>\n",
       "      <td>5.907504</td>\n",
       "      <td>996.086604</td>\n",
       "      <td>0.455219</td>\n",
       "      <td>10.000000</td>\n",
       "    </tr>\n",
       "  </tbody>\n",
       "</table>\n",
       "</div>"
      ],
      "text/plain": [
       "       segregated_portion_m  elevation_gain_total_m  max_steepness_gradient  \\\n",
       "count            100.000000              100.000000              100.000000   \n",
       "mean               0.195898               -4.689172                3.349055   \n",
       "std                0.125393               81.171714                1.822165   \n",
       "min                0.025245             -175.094522                0.125318   \n",
       "25%                0.096995              -64.713789                1.764582   \n",
       "50%                0.173000               -5.424127                3.614644   \n",
       "75%                0.261119               58.292482                5.086246   \n",
       "max                0.574913              155.560535                5.907504   \n",
       "\n",
       "         length_m  lit_portion  stoplights_total  \n",
       "count  100.000000   100.000000        100.000000  \n",
       "mean   745.083229     0.165199          4.040000  \n",
       "std     95.732283     0.102036          3.014845  \n",
       "min    391.512465     0.002481          0.000000  \n",
       "25%    686.904234     0.091610          1.000000  \n",
       "50%    756.449222     0.137292          3.000000  \n",
       "75%    808.259692     0.206105          7.000000  \n",
       "max    996.086604     0.455219         10.000000  "
      ]
     },
     "execution_count": 35,
     "metadata": {},
     "output_type": "execute_result"
    }
   ],
   "source": [
    "cycling_paths_df.describe()"
   ]
  },
  {
   "cell_type": "code",
   "execution_count": 43,
   "id": "88632376-a16c-430a-a9c1-4f7f91c8d036",
   "metadata": {},
   "outputs": [
    {
     "data": {
      "text/plain": [
       "13.083333333333334"
      ]
     },
     "execution_count": 43,
     "metadata": {},
     "output_type": "execute_result"
    }
   ],
   "source": [
    "np.mean([3, 1, 6, 4, 2, 8, 14, 6, 54, 22, 16, 21])"
   ]
  },
  {
   "cell_type": "code",
   "execution_count": 51,
   "id": "90f20261-670c-43a3-9d40-bd4e28a9eb7e",
   "metadata": {},
   "outputs": [
    {
     "data": {
      "text/plain": [
       "count    100.000000\n",
       "mean      22.758750\n",
       "std        2.013774\n",
       "min       18.750000\n",
       "25%       21.312500\n",
       "50%       22.729167\n",
       "75%       24.166667\n",
       "max       28.041667\n",
       "Name: cyclists_average, dtype: float64"
      ]
     },
     "execution_count": 51,
     "metadata": {},
     "output_type": "execute_result"
    }
   ],
   "source": [
    "cycling_paths_df.cyclists_average.apply(np.mean).describe()"
   ]
  },
  {
   "cell_type": "code",
   "execution_count": 52,
   "id": "8d05782a-75bb-4727-85f8-8f2fc9066f8b",
   "metadata": {},
   "outputs": [
    {
     "data": {
      "text/plain": [
       "count    100.000000\n",
       "mean      60.650000\n",
       "std        2.958893\n",
       "min       48.000000\n",
       "25%       59.000000\n",
       "50%       61.000000\n",
       "75%       63.000000\n",
       "max       64.000000\n",
       "Name: cyclists_average, dtype: float64"
      ]
     },
     "execution_count": 52,
     "metadata": {},
     "output_type": "execute_result"
    }
   ],
   "source": [
    "cycling_paths_df.cyclists_average.apply(np.max).describe()"
   ]
  },
  {
   "cell_type": "code",
   "execution_count": 57,
   "id": "cd02f21d-8d63-461b-aa2b-6251759fbc7c",
   "metadata": {},
   "outputs": [
    {
     "data": {
      "text/plain": [
       "count    100.000000\n",
       "mean       0.082870\n",
       "std        0.012498\n",
       "min        0.059417\n",
       "25%        0.074056\n",
       "50%        0.081263\n",
       "75%        0.090701\n",
       "max        0.145589\n",
       "dtype: float64"
      ]
     },
     "execution_count": 57,
     "metadata": {},
     "output_type": "execute_result"
    }
   ],
   "source": [
    "cycling_paths_df.apply(lambda row: np.max(row.cyclists_average) / row.length_m, axis=1).describe()"
   ]
  },
  {
   "cell_type": "markdown",
   "id": "acb055c8-1f88-4462-849c-723e2478972e",
   "metadata": {},
   "source": [
    "## Conclusions/questions\n",
    "- No missing values\n",
    "- Reasonable slopes\n",
    "- No zero length paths, so divisions are fine \n",
    "- All paths are reasonably short -- maybe individual streets so that we can assemble different paths as needed\n",
    "- What does \"average munber of cyclists on path\" mean? On path near me or on the entire path? -- perhaps because the paths are short number of cyclists on the entire path are meant\n",
    "\n",
    "\n",
    "## Plan \n",
    "- Develop three measures:\n",
    "    - Physical effort measure \n",
    "        - length, total elevation gain divided by the length (positive gets more weight than negative), max steepness gradient (give this at least a quadratic transform,  maybe even exponential, what is max steepenss what you can even ride up on -- research that)\n",
    "    - Time efficiency measure (effort already translates into extra time so here only pure extra time components)\n",
    "        - segregated portion (low weight), number of stoplights\n",
    "    - Safety measure\n",
    "        - unsegregated absolute length, number of cyclists, unlit absolute length   \n",
    "- Bring all these onto the same scale so we can make meaningful comparisons and make sense of weights\n",
    "- Research what would be a good way to pick weights and validate them\n",
    "- Adjust weights by the time of day: e.g. unlit does not matter during the day, unsegregated might not matter as much during the night\n",
    "- Document the functions\n",
    "\n",
    "\n",
    "## End measure\n",
    "\n",
    "- Star chart with these three indicators per path \n",
    "- Aggrerate these three measures into a single number (what are good weights?) \n",
    "- Aggregate these three measures into one of these categories: \"easy\", \"medium\", \"hard\"\n",
    "- Consider having day/night/peak time ratings"
   ]
  },
  {
   "cell_type": "markdown",
   "id": "403d565f-5cfd-4e74-9732-efef96a79e8a",
   "metadata": {},
   "source": [
    "# Implement one measure "
   ]
  },
  {
   "cell_type": "code",
   "execution_count": 68,
   "id": "7fef109f-ad7e-4531-a63a-1f9891e92b31",
   "metadata": {},
   "outputs": [],
   "source": [
    "# Define safety measure, score will be 0 to 3 with higher score indicating less safe. \n",
    "def get_safety_measure(row, segregated_weight = 1, unlit_weight = 1, unsafe_weight = .5, crowded_weight = .2, unsafe_for_too_long_weight = .3):\n",
    "    # portion of unsafe meters (possibly doubled):\n",
    "    unsafe_length = segregated_weight * (1 - row.segregated_portion_m) * row.length_m + unlit_weight * (1 - row.lit_portion) * row.length_m\n",
    "    \n",
    "    is_unsafe_too_long = unsafe_length > 100\n",
    "    unsafe_portion = max(row.length_m, unsafe_length) / row.length_m\n",
    "    \n",
    "    # people closer than 5 meters apart is too much \n",
    "    is_ever_crowded = int(np.max(row.cyclists_average) / row.length_m > .2)\n",
    "    \n",
    "    return unsafe_portion * unsafe_weight + is_ever_crowded * crowded_weight + unsafe_for_too_long_weight * is_unsafe_too_long"
   ]
  },
  {
   "cell_type": "code",
   "execution_count": 69,
   "id": "e77987b9-75c6-4a22-be67-e27c654bfb4d",
   "metadata": {},
   "outputs": [
    {
     "data": {
      "text/plain": [
       "1.0778021176451449"
      ]
     },
     "execution_count": 69,
     "metadata": {},
     "output_type": "execute_result"
    }
   ],
   "source": [
    "get_safety_measure(cycling_paths_df.loc[0,:])"
   ]
  },
  {
   "cell_type": "code",
   "execution_count": null,
   "id": "68d3d369-743a-475e-bd8d-22944c62dc43",
   "metadata": {},
   "outputs": [],
   "source": []
  }
 ],
 "metadata": {
  "kernelspec": {
   "display_name": "Python 3 (ipykernel)",
   "language": "python",
   "name": "python3"
  },
  "language_info": {
   "codemirror_mode": {
    "name": "ipython",
    "version": 3
   },
   "file_extension": ".py",
   "mimetype": "text/x-python",
   "name": "python",
   "nbconvert_exporter": "python",
   "pygments_lexer": "ipython3",
   "version": "3.7.12"
  }
 },
 "nbformat": 4,
 "nbformat_minor": 5
}
